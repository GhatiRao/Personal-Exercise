{
 "cells": [
  {
   "cell_type": "markdown",
   "metadata": {},
   "source": [
    "\n",
    "### Write a program which accepts a sequence of words separated by whitespace as input to print the words composed of digits only."
   ]
  },
  {
   "cell_type": "code",
   "execution_count": 24,
   "metadata": {},
   "outputs": [
    {
     "name": "stdout",
     "output_type": "stream",
     "text": [
      "Enter the sentence with numbers in it: 5 giepofm 45\n",
      "['4', '5']\n"
     ]
    }
   ],
   "source": [
    "#Taking the input\n",
    "my=input(\"Enter the sentence with numbers in it: \")\n",
    "    \n",
    "words=[]\n",
    "\n",
    "#checking the boundary conditions if the string is empty and prompting to enter a valid sentence\n",
    "if my ==\"\":                                          \n",
    "    print(\"Please enter something\")  \n",
    "else:\n",
    "    for n in \"1234567890\":\n",
    "        if (n in my):\n",
    "            words.append(n)\n",
    "        else:\n",
    "            continue\n",
    "    print(words)"
   ]
  },
  {
   "cell_type": "markdown",
   "metadata": {},
   "source": [
    "### Define a function which can print a dictionary where the keys are numbers between 1 and 3 (both included) and the values are square of keys.\n"
   ]
  },
  {
   "cell_type": "code",
   "execution_count": 65,
   "metadata": {},
   "outputs": [
    {
     "name": "stdout",
     "output_type": "stream",
     "text": [
      "{1: 1, 2: 4, 3: 9}\n"
     ]
    }
   ],
   "source": [
    "a={}\n",
    "b={}\n",
    "\n",
    "''''This gives an output : cannot unpack non-iterable int object\n",
    "Because, what we are doing is , assigning keys to 1,2,3 '''\n",
    "# for key,value in range(1,4):\n",
    "#     a[key]=value**2\n",
    "# print(a)\n",
    "    \n",
    "for x in range(1,4):\n",
    "    b[x]=x**2\n",
    "print(b)"
   ]
  },
  {
   "cell_type": "code",
   "execution_count": null,
   "metadata": {},
   "outputs": [],
   "source": []
  }
 ],
 "metadata": {
  "kernelspec": {
   "display_name": "Python 3",
   "language": "python",
   "name": "python3"
  },
  "language_info": {
   "codemirror_mode": {
    "name": "ipython",
    "version": 3
   },
   "file_extension": ".py",
   "mimetype": "text/x-python",
   "name": "python",
   "nbconvert_exporter": "python",
   "pygments_lexer": "ipython3",
   "version": "3.8.5"
  }
 },
 "nbformat": 4,
 "nbformat_minor": 4
}
