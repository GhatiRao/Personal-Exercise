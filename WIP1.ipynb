{
 "cells": [
  {
   "cell_type": "markdown",
   "metadata": {},
   "source": [
    "\n",
    "### Write a program which accepts a sequence of words separated by whitespace as input to print the words composed of digits only."
   ]
  },
  {
   "cell_type": "code",
   "execution_count": 24,
   "metadata": {},
   "outputs": [
    {
     "name": "stdout",
     "output_type": "stream",
     "text": [
      "Enter the sentence with numbers in it: 5 giepofm 45\n",
      "['4', '5']\n"
     ]
    }
   ],
   "source": [
    "#Taking the input\n",
    "my=input(\"Enter the sentence with numbers in it: \")\n",
    "    \n",
    "words=[]\n",
    "\n",
    "#checking the boundary conditions if the string is empty and prompting to enter a valid sentence\n",
    "if my ==\"\":                                          \n",
    "    print(\"Please enter something\")  \n",
    "else:\n",
    "    for n in \"1234567890\":\n",
    "        if (n in my):\n",
    "            words.append(n)\n",
    "        else:\n",
    "            continue\n",
    "    print(words)"
   ]
  },
  {
   "cell_type": "markdown",
   "metadata": {},
   "source": [
    "### Define a function which can print a dictionary where the keys are numbers between 1 and 3 (both included) and the values are square of keys.\n"
   ]
  },
  {
   "cell_type": "code",
   "execution_count": 65,
   "metadata": {},
   "outputs": [
    {
     "name": "stdout",
     "output_type": "stream",
     "text": [
      "{1: 1, 2: 4, 3: 9}\n"
     ]
    }
   ],
   "source": [
    "a={}\n",
    "b={}\n",
    "\n",
    "''''This gives an output : cannot unpack non-iterable int object\n",
    "Because, what we are doing is , assigning keys to 1,2,3 '''\n",
    "# for key,value in range(1,4):\n",
    "#     a[key]=value**2\n",
    "# print(a)\n",
    "    \n",
    "for x in range(1,4):\n",
    "    b[x]=x**2\n",
    "print(b)"
   ]
  },
  {
   "cell_type": "markdown",
   "metadata": {},
   "source": [
    "### Please write a program which count and print the numbers of each character in a string input by console.\n",
    "\n",
    "Example:\n",
    "If the following string is given as input to the program:\n",
    "\n",
    "abcdefgabc\n",
    "\n",
    "Then, the output of the program should be:\n",
    "\n",
    "a,2\n",
    "c,2\n",
    "b,2\n",
    "e,1\n",
    "d,1\n",
    "g,1\n",
    "f,1"
   ]
  },
  {
   "cell_type": "code",
   "execution_count": 133,
   "metadata": {
    "scrolled": true
   },
   "outputs": [
    {
     "name": "stdout",
     "output_type": "stream",
     "text": [
      "Enter the sentence you want :     heelo brooo\n",
      "{'h': 1, 'e': 2, 'l': 1, 'o': 4, ' ': 1, 'b': 1, 'r': 1}\n",
      "h , 1\n",
      "e , 2\n",
      "l , 1\n",
      "o , 4\n",
      "  , 1\n",
      "b , 1\n",
      "r , 1\n"
     ]
    }
   ],
   "source": [
    "sentence=input(\"Enter the sentence you want :     \")\n",
    "dic={}\n",
    "for s in sentence:\n",
    "    dic[s] = dic.get(s,0)+1\n",
    "print(dic)\n",
    "\n",
    "for i in dic:\n",
    "    print(i,\",\",dic.get(i))"
   ]
  },
  {
   "cell_type": "markdown",
   "metadata": {},
   "source": [
    "## A robot moves in a plane starting from the original point (0,0). The robot can move toward UP, DOWN, LEFT and RIGHT with a given steps. The trace of robot movement is shown as the following:\n",
    "##UP 5\n",
    "##DOWN 3\n",
    "##LEFT 3\n",
    "##RIGHT 2\n",
    "\n",
    "The numbers after the direction are steps. Please write a program to compute the distance from current position after a sequence of movement and original point. If the distance is a float, then just print the nearest integer.\n",
    "Example:\n",
    "If the following tuples are given as input to the program:\n",
    "UP 5\n",
    "DOWN 3\n",
    "LEFT 3\n",
    "RIGHT 2\n",
    "Then, the output of the program should be:\n",
    "2"
   ]
  },
  {
   "cell_type": "code",
   "execution_count": 46,
   "metadata": {},
   "outputs": [
    {
     "name": "stdout",
     "output_type": "stream",
     "text": [
      "Please enter the values for the following directions :-  Up , Down , Left , Right :  5  , 6  , 7  , 8\n",
      "Please enter just 4 numbers\n"
     ]
    }
   ],
   "source": [
    "import math\n",
    "Trace=input(\"Please enter the values for the following directions :-  Up,Down,Left,Right :  \")\n",
    "\n",
    "if len(Trace)>8:\n",
    "    print(\"Please enter just 4 numbers\")\n",
    "else:\n",
    "    \n",
    "    #Converting from string to list   \n",
    "    direction=list(Trace) \n",
    "\n",
    "    #removing the commas\n",
    "    direction=direction[0:7:2]\n",
    "\n",
    "    '''' from 0,0 :-\n",
    "        Top would be +Y\n",
    "        Bottom would be -Y\n",
    "        Right would be +X\n",
    "        Left would be -X  '''\n",
    "\n",
    "    #We have set the steps in each of the directions\n",
    "    Up = [int(direction[0]),0]\n",
    "    Down = [-int(direction[1]),0]\n",
    "    Left = [0,-int(direction[2])]\n",
    "    Right = [0,int(direction[3])]\n",
    "    #print(Up , Down , Left , Right)\n",
    "\n",
    "    #set the original position in (X,Y)\n",
    "    begin=[0,0]\n",
    "\n",
    "    #Adding the X components and Y components with the begin , and storing the final value\n",
    "    final=[begin[0]+Up[0]+Down[0]+Left[0]+Right[0],begin[1]+Up[1]+Down[1]+Left[1]+Right[1]]\n",
    "    print(\"final location is at\", final )\n",
    "\n",
    "    #Computing the distance from origin\n",
    "\n",
    "    d=math.dist(final,begin)\n",
    "    print(math.floor(d))\n"
   ]
  },
  {
   "cell_type": "code",
   "execution_count": 44,
   "metadata": {},
   "outputs": [
    {
     "name": "stdout",
     "output_type": "stream",
     "text": [
      "UP 5\n",
      "DOWN 3\n",
      "LEFT 3\n",
      "RIGHT 2\n",
      "\n",
      "2\n"
     ]
    }
   ],
   "source": [
    "import math\n",
    "pos = [0,0]\n",
    "while True:\n",
    "    s = input( )\n",
    "    if not s:\n",
    "        break\n",
    "    movement = s.split(\" \")\n",
    "    direction = movement[0]\n",
    "    steps = int(movement[1])\n",
    "    if direction==\"UP\":\n",
    "        pos[0]+=steps\n",
    "    elif direction==\"DOWN\":\n",
    "        pos[0]-=steps\n",
    "    elif direction==\"LEFT\":\n",
    "        pos[1]-=steps\n",
    "    elif direction==\"RIGHT\":\n",
    "        pos[1]+=steps\n",
    "    else:\n",
    "        pass\n",
    "\n",
    "print (round(math.sqrt(pos[1]**2+pos[0]**2)))"
   ]
  },
  {
   "cell_type": "markdown",
   "metadata": {},
   "source": [
    "### A website requires the users to input username and password to register. Write a program to check the validity of password input by users.\n",
    "Following are the criteria for checking the password:\n",
    "1. At least 1 letter between [a-z]\n",
    "2. At least 1 number between [0-9]\n",
    "1. At least 1 letter between [A-Z]\n",
    "3. At least 1 character from [$#@]\n",
    "4. Minimum length of transaction password: 6\n",
    "5. Maximum length of transaction password: 12\n",
    "\n",
    "Your program should accept a sequence of comma separated passwords and will check them according to the above criteria. \n",
    "\n",
    "Passwords that match the criteria are to be printed, each separated by a comma.\n",
    "\n",
    "Example\n",
    "If the following passwords are given as input to the program:\n",
    "\n",
    "ABd1234@1,a F1#,2w3E*,2We3345\n",
    "\n",
    "Then, the output of the program should be:\n",
    "\n",
    "ABd1234@1"
   ]
  },
  {
   "cell_type": "code",
   "execution_count": 17,
   "metadata": {},
   "outputs": [
    {
     "name": "stdout",
     "output_type": "stream",
     "text": [
      "Enter the set of passwords to be checked : 12345!,12345`\n",
      "['12345!', '12345`']\n",
      "Please enter a number between 6 ans 12 characters long\n",
      "Please enter a number between 6 ans 12 characters long\n"
     ]
    }
   ],
   "source": [
    "#Learnt that multpiple instances can be tagged along followed by a \".\"\n",
    "sequence=input(\"Enter the set of passwords to be checked : \").split(\",\")\n",
    "\n",
    "print(sequence)\n",
    "small=\"abcdefghijklmnopqrstuvwxyz\"\n",
    "cap=\"ABCDEFGHIJKLMNOPQRSTUVWXYZ\"\n",
    "num=\"0123456789\"\n",
    "cha=\"$#@\"\n",
    "\n",
    "for word in sequence:\n",
    "    if len(word)>6 and len(word)<=12:\n",
    "        cor=\"\"\n",
    "        for i in word:\n",
    "            if i in small:\n",
    "                cor+=i\n",
    "            elif i in cap:\n",
    "                cor+=i\n",
    "            elif i in num:\n",
    "                cor+=i\n",
    "            elif i in cha:\n",
    "                cor+=i\n",
    "            else:\n",
    "                cor=\"\"\n",
    "        print(cor)\n",
    "    else:\n",
    "        pass\n",
    "        print(\"Please enter a number between 6 ans 12 characters long\")\n"
   ]
  },
  {
   "cell_type": "code",
   "execution_count": null,
   "metadata": {},
   "outputs": [],
   "source": []
  }
 ],
 "metadata": {
  "kernelspec": {
   "display_name": "Python 3",
   "language": "python",
   "name": "python3"
  },
  "language_info": {
   "codemirror_mode": {
    "name": "ipython",
    "version": 3
   },
   "file_extension": ".py",
   "mimetype": "text/x-python",
   "name": "python",
   "nbconvert_exporter": "python",
   "pygments_lexer": "ipython3",
   "version": "3.8.5"
  }
 },
 "nbformat": 4,
 "nbformat_minor": 4
}
